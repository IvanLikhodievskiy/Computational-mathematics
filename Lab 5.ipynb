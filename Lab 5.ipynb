{
 "cells": [
  {
   "cell_type": "code",
   "execution_count": 1,
   "id": "fdb0abfe-d109-4578-9152-48752119f30c",
   "metadata": {},
   "outputs": [],
   "source": [
    "import numpy as np\n",
    "import matplotlib.pyplot as plt\n",
    "import copy\n",
    "from scipy import sparse\n",
    "\n",
    "%matplotlib inline"
   ]
  },
  {
   "cell_type": "markdown",
   "id": "2f13b7bd-d1ec-408a-9e82-eca8bfcb513f",
   "metadata": {},
   "source": [
    "# Лабораторная работа 5"
   ]
  },
  {
   "cell_type": "markdown",
   "id": "7362a7c3-c0ec-47f2-8aae-fd46b5ec6b1e",
   "metadata": {},
   "source": [
    "### Таблично заданная функция\n",
    "\n",
    "| $x$  | $f(x)$   |\n",
    "|------|----------|\n",
    "| 0.   | 1.000000 |\n",
    "| 0.25 | 0.979915 |\n",
    "| 0.5  | 0.927295 |\n",
    "| 0.75 | 0.858001 |\n",
    "| 1.   | 0.785398 |\n",
    "| 1.25 | 0.716844 |\n",
    "| 1.5  | 0.655196 |\n",
    "| 1.75 | 0.600943 |\n",
    "| 2.   | 0.553574 |\n",
    "\n",
    "### Интегрирование методом трапеций\n",
    "\n",
    "$$ I_T = \\sum_{k=0}^{n-1} \\frac{h_k}{2} (f(x_{k+1}) + f(x_k)), \\space h_k = x_{k+1} - x_k $$\n"
   ]
  },
  {
   "cell_type": "code",
   "execution_count": 4,
   "id": "53e54c54-6d90-43e6-8dd3-dc1e96333247",
   "metadata": {},
   "outputs": [],
   "source": [
    "def trapezoid(x, f):\n",
    "    n = len(x)\n",
    "    summ = 0.0\n",
    "    for i in range(n-1):\n",
    "        summ += ((x[i+1] - x[i]) / 2) * (f[i+1] + f[i])\n",
    "    return summ"
   ]
  },
  {
   "cell_type": "markdown",
   "id": "b06e8436-ab15-457d-b327-1ddd7bc1546a",
   "metadata": {},
   "source": [
    "### Экстраполяция Ричардсона\n",
    "\n",
    "$$ I^{p+1} = I^p(h/2) + \\left(I^p(h/2) - I^p(h)\\right) / \\left(2^p - 1\\right) + O(h^{p+1}) $$"
   ]
  },
  {
   "cell_type": "code",
   "execution_count": 45,
   "id": "14f6e871-8081-451e-851d-13efdab50ae2",
   "metadata": {},
   "outputs": [],
   "source": [
    "def richardson(method, p, x, f):\n",
    "    I_h = method(x, f)\n",
    "    x_new = [x[2*i] for i in range((len(x) + 1)//2)]\n",
    "    f_new = [f[2*i] for i in range((len(x) + 1)//2)]\n",
    "    I_2h = method(x_new, f_new)\n",
    "    return I_h + ((I_h - I_2h) / (2**p - 1))"
   ]
  },
  {
   "cell_type": "markdown",
   "id": "55fcf7b3-b05a-4d3c-8a0d-aa3adc373dd0",
   "metadata": {},
   "source": [
    "### Метод Симпсона\n",
    "\n",
    "$$ I_S = \\sum_{k=0}^{[n/2]} \\frac{h_{2k}}{3} (f(x_{2k}) + 4f(x_{2k+1}) + f(x_{2k + 2}))$$"
   ]
  },
  {
   "cell_type": "code",
   "execution_count": 48,
   "id": "12995c7a-0384-4ee2-91d9-e7bb455c3894",
   "metadata": {},
   "outputs": [],
   "source": [
    "def simpson(x, f):\n",
    "    n = len(x)\n",
    "    summ = 0.0\n",
    "    for i in range(n//2):\n",
    "        summ += ((x[2*i+1] - x[2*i]) / 3) * (f[2*i] + 4*f[2*i+1] + f[2*i+2])\n",
    "    return summ"
   ]
  },
  {
   "cell_type": "code",
   "execution_count": 50,
   "id": "135158d5-b508-4190-a48a-26be515c9a99",
   "metadata": {},
   "outputs": [
    {
     "name": "stdout",
     "output_type": "stream",
     "text": [
      "Trapezoidal rule: 1.57509475\n",
      "Richardson extrapolation: 1.5760136666666669\n",
      "Simpson's rule: 1.5760136666666666\n",
      "\n",
      "Difference between Simpson's rule and Richardson extrapolation: 2.220446049250313e-16\n"
     ]
    }
   ],
   "source": [
    "x = [0.0, 0.25, 0.5, 0.75, 1.0, 1.25, 1.5, 1.75, 2.0]\n",
    "f = [1.000000, 0.979915, 0.927295, 0.858001, 0.785398, 0.716844, 0.655196, 0.600943, 0.553574]\n",
    "\n",
    "I_h = trapezoid(x, f)\n",
    "I_r = richardson(trapezoid, 2, x, f)\n",
    "I_s = simpson(x, f)\n",
    "\n",
    "print(f\"Trapezoidal rule: {I_h}\")\n",
    "print(f\"Richardson extrapolation: {I_r}\")\n",
    "print(f\"Simpson's rule: {I_s}\")\n",
    "\n",
    "print(f\"\\nDifference between Simpson's rule and Richardson extrapolation: {abs(I_r - I_s)}\")"
   ]
  }
 ],
 "metadata": {
  "kernelspec": {
   "display_name": "Python 3 (ipykernel)",
   "language": "python",
   "name": "python3"
  },
  "language_info": {
   "codemirror_mode": {
    "name": "ipython",
    "version": 3
   },
   "file_extension": ".py",
   "mimetype": "text/x-python",
   "name": "python",
   "nbconvert_exporter": "python",
   "pygments_lexer": "ipython3",
   "version": "3.12.4"
  }
 },
 "nbformat": 4,
 "nbformat_minor": 5
}
